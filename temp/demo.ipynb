{
 "cells": [
  {
   "cell_type": "code",
   "execution_count": 1,
   "id": "f9792f39",
   "metadata": {},
   "outputs": [],
   "source": [
    "import pandas as pd\n",
    "import numpy as np"
   ]
  },
  {
   "cell_type": "code",
   "execution_count": 2,
   "id": "6c147b1c",
   "metadata": {},
   "outputs": [],
   "source": [
    "df = pd.read_csv('d.csv')"
   ]
  },
  {
   "cell_type": "code",
   "execution_count": 3,
   "id": "bf2c8227",
   "metadata": {},
   "outputs": [],
   "source": [
    "# Dropping index columns\n",
    "df = df.drop('Unnamed: 0',axis =1 )"
   ]
  },
  {
   "cell_type": "code",
   "execution_count": 4,
   "id": "895da389",
   "metadata": {},
   "outputs": [],
   "source": [
    "# Songs that are played more than 5 seconds\n",
    "df = df [df['msPlayed'] > 5000 ] "
   ]
  },
  {
   "cell_type": "code",
   "execution_count": 9,
   "id": "8c897553",
   "metadata": {},
   "outputs": [
    {
     "ename": "IndexError",
     "evalue": "tuple index out of range",
     "output_type": "error",
     "traceback": [
      "\u001b[1;31m---------------------------------------------------------------------------\u001b[0m",
      "\u001b[1;31mIndexError\u001b[0m                                Traceback (most recent call last)",
      "\u001b[1;32m~\\AppData\\Local\\Temp\\ipykernel_8144\\123504867.py\u001b[0m in \u001b[0;36m<module>\u001b[1;34m\u001b[0m\n\u001b[1;32m----> 1\u001b[1;33m \u001b[0mdf\u001b[0m\u001b[1;33m[\u001b[0m\u001b[1;34m'sigmaritan'\u001b[0m\u001b[1;33m]\u001b[0m\u001b[1;33m.\u001b[0m\u001b[0munique\u001b[0m\u001b[1;33m(\u001b[0m\u001b[1;33m)\u001b[0m\u001b[1;33m.\u001b[0m\u001b[0mshape\u001b[0m\u001b[1;33m[\u001b[0m\u001b[1;36m1\u001b[0m\u001b[1;33m]\u001b[0m\u001b[1;33m\u001b[0m\u001b[1;33m\u001b[0m\u001b[0m\n\u001b[0m",
      "\u001b[1;31mIndexError\u001b[0m: tuple index out of range"
     ]
    }
   ],
   "source": [
    "df['sigmaritan'].unique().shape[1]"
   ]
  },
  {
   "cell_type": "code",
   "execution_count": 5,
   "id": "ffa6b250",
   "metadata": {},
   "outputs": [
    {
     "data": {
      "text/html": [
       "<div>\n",
       "<style scoped>\n",
       "    .dataframe tbody tr th:only-of-type {\n",
       "        vertical-align: middle;\n",
       "    }\n",
       "\n",
       "    .dataframe tbody tr th {\n",
       "        vertical-align: top;\n",
       "    }\n",
       "\n",
       "    .dataframe thead th {\n",
       "        text-align: right;\n",
       "    }\n",
       "</style>\n",
       "<table border=\"1\" class=\"dataframe\">\n",
       "  <thead>\n",
       "    <tr style=\"text-align: right;\">\n",
       "      <th></th>\n",
       "      <th>sigmaritan</th>\n",
       "      <th>endTime</th>\n",
       "      <th>artistName</th>\n",
       "      <th>trackName</th>\n",
       "      <th>msPlayed</th>\n",
       "    </tr>\n",
       "  </thead>\n",
       "  <tbody>\n",
       "    <tr>\n",
       "      <th>0</th>\n",
       "      <td>alex_clefos</td>\n",
       "      <td>2021-05-06 23:04</td>\n",
       "      <td>Shinedown</td>\n",
       "      <td>My Name (Wearing Me Out)</td>\n",
       "      <td>83780</td>\n",
       "    </tr>\n",
       "    <tr>\n",
       "      <th>1</th>\n",
       "      <td>alex_clefos</td>\n",
       "      <td>2021-05-07 00:29</td>\n",
       "      <td>Disturbed</td>\n",
       "      <td>Deify</td>\n",
       "      <td>1440453</td>\n",
       "    </tr>\n",
       "    <tr>\n",
       "      <th>3</th>\n",
       "      <td>alex_clefos</td>\n",
       "      <td>2021-05-07 00:46</td>\n",
       "      <td>Disturbed</td>\n",
       "      <td>Deify</td>\n",
       "      <td>1002243</td>\n",
       "    </tr>\n",
       "    <tr>\n",
       "      <th>5</th>\n",
       "      <td>alex_clefos</td>\n",
       "      <td>2021-05-07 00:57</td>\n",
       "      <td>Disturbed</td>\n",
       "      <td>Deify</td>\n",
       "      <td>664190</td>\n",
       "    </tr>\n",
       "    <tr>\n",
       "      <th>7</th>\n",
       "      <td>alex_clefos</td>\n",
       "      <td>2021-05-07 01:06</td>\n",
       "      <td>Disturbed</td>\n",
       "      <td>Indestructible</td>\n",
       "      <td>543770</td>\n",
       "    </tr>\n",
       "    <tr>\n",
       "      <th>...</th>\n",
       "      <td>...</td>\n",
       "      <td>...</td>\n",
       "      <td>...</td>\n",
       "      <td>...</td>\n",
       "      <td>...</td>\n",
       "    </tr>\n",
       "    <tr>\n",
       "      <th>351885</th>\n",
       "      <td>vladimir_stojoc</td>\n",
       "      <td>2022-04-20 17:40</td>\n",
       "      <td>Lil Nas X</td>\n",
       "      <td>INDUSTRY BABY (feat. Jack Harlow)</td>\n",
       "      <td>212352</td>\n",
       "    </tr>\n",
       "    <tr>\n",
       "      <th>351886</th>\n",
       "      <td>vladimir_stojoc</td>\n",
       "      <td>2022-04-20 17:43</td>\n",
       "      <td>bbno$</td>\n",
       "      <td>resume</td>\n",
       "      <td>164426</td>\n",
       "    </tr>\n",
       "    <tr>\n",
       "      <th>351887</th>\n",
       "      <td>vladimir_stojoc</td>\n",
       "      <td>2022-04-20 17:46</td>\n",
       "      <td>YUNGBLUD</td>\n",
       "      <td>braindead!</td>\n",
       "      <td>163293</td>\n",
       "    </tr>\n",
       "    <tr>\n",
       "      <th>351888</th>\n",
       "      <td>vladimir_stojoc</td>\n",
       "      <td>2022-04-20 17:49</td>\n",
       "      <td>Rich Brian</td>\n",
       "      <td>Getcho Mans</td>\n",
       "      <td>211306</td>\n",
       "    </tr>\n",
       "    <tr>\n",
       "      <th>351889</th>\n",
       "      <td>vladimir_stojoc</td>\n",
       "      <td>2022-04-20 17:53</td>\n",
       "      <td>Rich Brian</td>\n",
       "      <td>New Tooth</td>\n",
       "      <td>220000</td>\n",
       "    </tr>\n",
       "  </tbody>\n",
       "</table>\n",
       "<p>285627 rows × 5 columns</p>\n",
       "</div>"
      ],
      "text/plain": [
       "             sigmaritan           endTime  artistName  \\\n",
       "0           alex_clefos  2021-05-06 23:04   Shinedown   \n",
       "1           alex_clefos  2021-05-07 00:29   Disturbed   \n",
       "3           alex_clefos  2021-05-07 00:46   Disturbed   \n",
       "5           alex_clefos  2021-05-07 00:57   Disturbed   \n",
       "7           alex_clefos  2021-05-07 01:06   Disturbed   \n",
       "...                 ...               ...         ...   \n",
       "351885  vladimir_stojoc  2022-04-20 17:40   Lil Nas X   \n",
       "351886  vladimir_stojoc  2022-04-20 17:43       bbno$   \n",
       "351887  vladimir_stojoc  2022-04-20 17:46    YUNGBLUD   \n",
       "351888  vladimir_stojoc  2022-04-20 17:49  Rich Brian   \n",
       "351889  vladimir_stojoc  2022-04-20 17:53  Rich Brian   \n",
       "\n",
       "                                trackName  msPlayed  \n",
       "0                My Name (Wearing Me Out)     83780  \n",
       "1                                   Deify   1440453  \n",
       "3                                   Deify   1002243  \n",
       "5                                   Deify    664190  \n",
       "7                          Indestructible    543770  \n",
       "...                                   ...       ...  \n",
       "351885  INDUSTRY BABY (feat. Jack Harlow)    212352  \n",
       "351886                             resume    164426  \n",
       "351887                         braindead!    163293  \n",
       "351888                        Getcho Mans    211306  \n",
       "351889                          New Tooth    220000  \n",
       "\n",
       "[285627 rows x 5 columns]"
      ]
     },
     "execution_count": 5,
     "metadata": {},
     "output_type": "execute_result"
    }
   ],
   "source": [
    "df"
   ]
  },
  {
   "cell_type": "code",
   "execution_count": 9,
   "id": "5a72af8f",
   "metadata": {},
   "outputs": [],
   "source": [
    "arr =  df[['artistName','trackName']].copy().values"
   ]
  },
  {
   "cell_type": "code",
   "execution_count": 10,
   "id": "ad867f0e",
   "metadata": {},
   "outputs": [
    {
     "data": {
      "text/plain": [
       "array([['Shinedown', 'My Name (Wearing Me Out)'],\n",
       "       ['Disturbed', 'Deify'],\n",
       "       ['Disturbed', 'Deify'],\n",
       "       ...,\n",
       "       ['YUNGBLUD', 'braindead!'],\n",
       "       ['Rich Brian', 'Getcho Mans'],\n",
       "       ['Rich Brian', 'New Tooth']], dtype=object)"
      ]
     },
     "execution_count": 10,
     "metadata": {},
     "output_type": "execute_result"
    }
   ],
   "source": [
    "arr"
   ]
  },
  {
   "cell_type": "code",
   "execution_count": 11,
   "id": "b27c8011",
   "metadata": {},
   "outputs": [],
   "source": [
    "new_arr = list()\n",
    "for x in arr:\n",
    "    new_arr.append(np.char.add(x[0], \" #$ \" + x[1]))"
   ]
  },
  {
   "cell_type": "code",
   "execution_count": 12,
   "id": "0625bc73",
   "metadata": {},
   "outputs": [],
   "source": [
    "unq_arr = np.unique(new_arr)"
   ]
  },
  {
   "cell_type": "code",
   "execution_count": 13,
   "id": "d153d574",
   "metadata": {},
   "outputs": [
    {
     "data": {
      "text/plain": [
       "array(['!!! #$ So We Can Fuck', '#2Mashi #$ Босая',\n",
       "       '#2Mashi #$ Мама, я танцую', ..., '缺省 #$ 一日入冬',\n",
       "       '荒山茉莉 Molly in Mountain #$ 水沒之都 A Drowning City',\n",
       "       '西田和枝社中 #$ 傀儡謡_新世に神集ひて'], dtype='<U165')"
      ]
     },
     "execution_count": 13,
     "metadata": {},
     "output_type": "execute_result"
    }
   ],
   "source": [
    "unq_arr"
   ]
  },
  {
   "cell_type": "code",
   "execution_count": 14,
   "id": "8e776667",
   "metadata": {},
   "outputs": [],
   "source": [
    "new_df = pd.DataFrame(columns = ['artistName', 'trackName'])"
   ]
  },
  {
   "cell_type": "code",
   "execution_count": 15,
   "id": "3e66220c",
   "metadata": {},
   "outputs": [],
   "source": [
    "new_df = pd.DataFrame(columns = ['artistName', 'trackName'])\n",
    "for x in unq_arr:\n",
    "    new_df = new_df.append( { 'artistName': x[ : x.find('#$') - 1], 'trackName' : x[ x.find('#$') + 3 :] }, ignore_index = True )"
   ]
  },
  {
   "cell_type": "code",
   "execution_count": 28,
   "id": "13441fba",
   "metadata": {},
   "outputs": [
    {
     "data": {
      "text/plain": [
       "'A Tribe Called Quest'"
      ]
     },
     "execution_count": 28,
     "metadata": {},
     "output_type": "execute_result"
    }
   ],
   "source": [
    "new_df.iloc[433,0]"
   ]
  },
  {
   "cell_type": "code",
   "execution_count": 16,
   "id": "3912a2f3",
   "metadata": {},
   "outputs": [
    {
     "data": {
      "text/plain": [
       "['nicolae_gherman']"
      ]
     },
     "execution_count": 16,
     "metadata": {},
     "output_type": "execute_result"
    }
   ],
   "source": [
    "list ( df[ (df['artistName'] == new_df.iloc[433,0]) & (df['trackName'] == new_df.iloc[433,1]) ]['sigmaritan'] )"
   ]
  },
  {
   "cell_type": "code",
   "execution_count": null,
   "id": "61c80f04",
   "metadata": {},
   "outputs": [],
   "source": [
    "df['sigmaritan'].value_counts()"
   ]
  },
  {
   "cell_type": "code",
   "execution_count": 25,
   "id": "ca1aca3a",
   "metadata": {
    "scrolled": true
   },
   "outputs": [
    {
     "data": {
      "text/plain": [
       "Fearless Motivation    347\n",
       "Disturbed              110\n",
       "PJ Harvey              107\n",
       "Kanye West             100\n",
       "Eminem                  92\n",
       "                      ... \n",
       "Jhené Aiko               1\n",
       "Jex Thoth                1\n",
       "Jethro Heston            1\n",
       "Jet                      1\n",
       "西田和枝社中                   1\n",
       "Name: artistName, Length: 9884, dtype: int64"
      ]
     },
     "execution_count": 25,
     "metadata": {},
     "output_type": "execute_result"
    }
   ],
   "source": [
    "new_df['artistName'].value_counts()"
   ]
  },
  {
   "cell_type": "code",
   "execution_count": 41,
   "id": "239076ec",
   "metadata": {},
   "outputs": [
    {
     "data": {
      "text/plain": [
       "Fearless Motivation    347\n",
       "Disturbed              110\n",
       "PJ Harvey              107\n",
       "Kanye West             100\n",
       "Eminem                  92\n",
       "                      ... \n",
       "Jhené Aiko               1\n",
       "Jex Thoth                1\n",
       "Jethro Heston            1\n",
       "Jet                      1\n",
       "西田和枝社中                   1\n",
       "Name: artistName, Length: 9884, dtype: int64"
      ]
     },
     "execution_count": 41,
     "metadata": {},
     "output_type": "execute_result"
    }
   ],
   "source": [
    "new_df['artistName'].value_counts()"
   ]
  },
  {
   "cell_type": "code",
   "execution_count": 30,
   "id": "f64d633e",
   "metadata": {},
   "outputs": [],
   "source": [
    "a = df [ df['artistName'] == 'Disturbed']"
   ]
  },
  {
   "cell_type": "code",
   "execution_count": 33,
   "id": "e611883e",
   "metadata": {},
   "outputs": [
    {
     "data": {
      "text/plain": [
       "alex_clefos        9937\n",
       "vasile_papaluta     140\n",
       "nicolae_gherman       6\n",
       "marius_sclearuc       1\n",
       "Name: sigmaritan, dtype: int64"
      ]
     },
     "execution_count": 33,
     "metadata": {},
     "output_type": "execute_result"
    }
   ],
   "source": [
    "a['sigmaritan'].value_counts()"
   ]
  }
 ],
 "metadata": {
  "kernelspec": {
   "display_name": "Python 3 (ipykernel)",
   "language": "python",
   "name": "python3"
  },
  "language_info": {
   "codemirror_mode": {
    "name": "ipython",
    "version": 3
   },
   "file_extension": ".py",
   "mimetype": "text/x-python",
   "name": "python",
   "nbconvert_exporter": "python",
   "pygments_lexer": "ipython3",
   "version": "3.7.8"
  }
 },
 "nbformat": 4,
 "nbformat_minor": 5
}
