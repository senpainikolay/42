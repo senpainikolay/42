{
 "cells": [
  {
   "cell_type": "code",
   "execution_count": 1,
   "id": "85364d55",
   "metadata": {},
   "outputs": [],
   "source": [
    "import numpy as np"
   ]
  },
  {
   "cell_type": "code",
   "execution_count": 2,
   "id": "bb439a66",
   "metadata": {},
   "outputs": [],
   "source": [
    "def sigmoid(y):\n",
    "    return  1 / ( 1 + np.exp(-y) )    "
   ]
  },
  {
   "cell_type": "code",
   "execution_count": 29,
   "id": "33ad8bd4",
   "metadata": {},
   "outputs": [
    {
     "data": {
      "text/plain": [
       "0.7310585786300049"
      ]
     },
     "execution_count": 29,
     "metadata": {},
     "output_type": "execute_result"
    }
   ],
   "source": [
    "sigmoid(1)"
   ]
  },
  {
   "cell_type": "code",
   "execution_count": 41,
   "id": "84e2691a",
   "metadata": {},
   "outputs": [],
   "source": [
    "def icote_sample(x1,x2):\n",
    "    diff = np.subtract(x1,x2) \n",
    "    distance = np.sqrt( np.sum( np.power(diff, 2 ) )) \n",
    "    alpha = 1 / distance\n",
    "    return np.add( np.multiply(diff, alpha), x1) "
   ]
  },
  {
   "cell_type": "code",
   "execution_count": 39,
   "id": "16fe4e6a",
   "metadata": {},
   "outputs": [],
   "source": [
    "x1 = np.random.randint(10, size = 5) \n",
    "x2 = np.random.randint(10, size = 5) "
   ]
  },
  {
   "cell_type": "code",
   "execution_count": 42,
   "id": "d59bb6b9",
   "metadata": {},
   "outputs": [
    {
     "data": {
      "text/plain": [
       "array([ 2.6333206 ,  0.35831105,  1.8166603 , -0.64168895,  9.09166985])"
      ]
     },
     "execution_count": 42,
     "metadata": {},
     "output_type": "execute_result"
    }
   ],
   "source": [
    "icote_sample(x1,x2)"
   ]
  }
 ],
 "metadata": {
  "kernelspec": {
   "display_name": "Python 3 (ipykernel)",
   "language": "python",
   "name": "python3"
  },
  "language_info": {
   "codemirror_mode": {
    "name": "ipython",
    "version": 3
   },
   "file_extension": ".py",
   "mimetype": "text/x-python",
   "name": "python",
   "nbconvert_exporter": "python",
   "pygments_lexer": "ipython3",
   "version": "3.7.9"
  }
 },
 "nbformat": 4,
 "nbformat_minor": 5
}
