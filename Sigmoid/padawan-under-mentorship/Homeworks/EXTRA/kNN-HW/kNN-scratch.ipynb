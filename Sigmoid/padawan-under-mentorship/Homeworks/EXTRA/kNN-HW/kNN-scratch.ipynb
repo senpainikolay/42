{
 "cells": [
  {
   "cell_type": "code",
   "execution_count": 1,
   "id": "91a8d753",
   "metadata": {},
   "outputs": [],
   "source": [
    "import math \n",
    "import numpy as np \n",
    "import pandas as pd \n",
    "from statistics import mode"
   ]
  },
  {
   "cell_type": "code",
   "execution_count": null,
   "id": "80341433",
   "metadata": {},
   "outputs": [],
   "source": [
    "# one vector prediction can't be made yet :)  at least 2"
   ]
  },
  {
   "cell_type": "code",
   "execution_count": 2,
   "id": "89c5cd06",
   "metadata": {},
   "outputs": [],
   "source": [
    "class kNN_Scratch(): \n",
    "    \n",
    "    def __init__(self,k):\n",
    "        \"\"\"\"\n",
    "            Initializes the kNN model. \n",
    "            \n",
    "            Stores the self.k variable, which\n",
    "            will be the number of nearest newighbours. \n",
    "            \n",
    "            Also initializing a tuple which will hold the X and y values\n",
    "            as rows of the sample(given X and y).  \n",
    "            \n",
    "        \"\"\" \n",
    "        self.k = k  \n",
    "        self.rows  = list()\n",
    "        \n",
    "    def distance(self,vec1,vec2):\n",
    "        \"\"\"\"\n",
    "            Euclidian distance function:\n",
    "            Calculates the distance between given vectors, the 2 rows of the sample. \n",
    "            Returns the distance.\n",
    "        \"\"\" \n",
    "        distance = 0.0  \n",
    "        for i in range( len(vec1)  ):\n",
    "            diff = vec1[i] - vec2[i]\n",
    "            distance +=   np.power(diff, 2 )\n",
    "        return np.sqrt(distance) \n",
    "     \n",
    "        \n",
    "    def fit(self, X,y):\n",
    "        \"\"\" \n",
    "           Stores the whole dataset in  rows, in a 2d tuple.\n",
    "           Rows are formed from X ( 1st parameter as a vector ) and y (2nd parameter as a value). \n",
    "        \"\"\" \n",
    "        index_target_counter = 0 \n",
    "        for row in X:\n",
    "            self.rows.append( ( row,  y[index_target_counter]) )\n",
    "            index_target_counter += 1   \n",
    "        return self \n",
    "                         \n",
    "    \n",
    "    def predict(self,X): \n",
    "        \n",
    "        #Initializing the prediction vector\n",
    "        y_pred = np.array([]) \n",
    "        \n",
    "        # Going through every single row of the prediction's X \n",
    "        for row in X:\n",
    "            \n",
    "            # Initializing a tuple for storing the self.rows and their distances compared to the prediction row.\n",
    "            distances = list() \n",
    "            \n",
    "            # Going through every stored/initial X's\n",
    "            for i in range( len(self.rows) ):\n",
    "                \n",
    "                # Calculates the distance between prediction row and every row from stored/initial X\n",
    "                dist = self.distance(row, self.rows[i][0]) \n",
    "                \n",
    "                # Stores all the distances between prediction row and all rows from stored/initial X in a 3d tuple\n",
    "                distances.append((self.rows[i], dist)) \n",
    "                \n",
    "            # Sorts the distance 3d tuple by the last  parameter which is the distance itself. \n",
    "            distances.sort( key = lambda dist_tuple : dist_tuple[1] )   \n",
    "            \n",
    "            # Creates a list of all target values(y) from the top k nearest vectors/neighbours.\n",
    "            target_val = list()\n",
    "            for i in range(self.k):\n",
    "                target_val.append( distances[i][0][1] )  \n",
    "                \n",
    "            # Choosing the most frequent target values(y) or the Class for the prediction row. \n",
    "            most_freq_class = mode(target_val) \n",
    "            \n",
    "            # Stores the most frequent value in the prediction vector\n",
    "            y_pred = np.append(y_pred,most_freq_class) \n",
    "        \n",
    "        # Returns the prediction vector\n",
    "        return y_pred\n",
    "        "
   ]
  },
  {
   "cell_type": "markdown",
   "id": "aa03c769",
   "metadata": {},
   "source": [
    "# Testing on a dataset"
   ]
  },
  {
   "cell_type": "code",
   "execution_count": 3,
   "id": "80ed2724",
   "metadata": {},
   "outputs": [],
   "source": [
    "dataset = pd.read_csv('social_ads.csv')\n",
    "X = dataset.iloc[:, :-1].values\n",
    "y = dataset.iloc[:, -1].values"
   ]
  },
  {
   "cell_type": "code",
   "execution_count": 4,
   "id": "ac298d58",
   "metadata": {},
   "outputs": [],
   "source": [
    "# Splitting the data sample.\n",
    "from sklearn.model_selection import train_test_split\n",
    "X_train, X_test, y_train, y_test = train_test_split(X, y, test_size = 0.25, random_state = 0)"
   ]
  },
  {
   "cell_type": "code",
   "execution_count": 5,
   "id": "a0ca22cf",
   "metadata": {},
   "outputs": [
    {
     "data": {
      "text/html": [
       "<div>\n",
       "<style scoped>\n",
       "    .dataframe tbody tr th:only-of-type {\n",
       "        vertical-align: middle;\n",
       "    }\n",
       "\n",
       "    .dataframe tbody tr th {\n",
       "        vertical-align: top;\n",
       "    }\n",
       "\n",
       "    .dataframe thead th {\n",
       "        text-align: right;\n",
       "    }\n",
       "</style>\n",
       "<table border=\"1\" class=\"dataframe\">\n",
       "  <thead>\n",
       "    <tr style=\"text-align: right;\">\n",
       "      <th></th>\n",
       "      <th>Age</th>\n",
       "      <th>EstimatedSalary</th>\n",
       "      <th>Purchased</th>\n",
       "    </tr>\n",
       "  </thead>\n",
       "  <tbody>\n",
       "    <tr>\n",
       "      <th>0</th>\n",
       "      <td>19</td>\n",
       "      <td>19000</td>\n",
       "      <td>0</td>\n",
       "    </tr>\n",
       "    <tr>\n",
       "      <th>1</th>\n",
       "      <td>35</td>\n",
       "      <td>20000</td>\n",
       "      <td>0</td>\n",
       "    </tr>\n",
       "    <tr>\n",
       "      <th>2</th>\n",
       "      <td>26</td>\n",
       "      <td>43000</td>\n",
       "      <td>0</td>\n",
       "    </tr>\n",
       "    <tr>\n",
       "      <th>3</th>\n",
       "      <td>27</td>\n",
       "      <td>57000</td>\n",
       "      <td>0</td>\n",
       "    </tr>\n",
       "    <tr>\n",
       "      <th>4</th>\n",
       "      <td>19</td>\n",
       "      <td>76000</td>\n",
       "      <td>0</td>\n",
       "    </tr>\n",
       "    <tr>\n",
       "      <th>...</th>\n",
       "      <td>...</td>\n",
       "      <td>...</td>\n",
       "      <td>...</td>\n",
       "    </tr>\n",
       "    <tr>\n",
       "      <th>395</th>\n",
       "      <td>46</td>\n",
       "      <td>41000</td>\n",
       "      <td>1</td>\n",
       "    </tr>\n",
       "    <tr>\n",
       "      <th>396</th>\n",
       "      <td>51</td>\n",
       "      <td>23000</td>\n",
       "      <td>1</td>\n",
       "    </tr>\n",
       "    <tr>\n",
       "      <th>397</th>\n",
       "      <td>50</td>\n",
       "      <td>20000</td>\n",
       "      <td>1</td>\n",
       "    </tr>\n",
       "    <tr>\n",
       "      <th>398</th>\n",
       "      <td>36</td>\n",
       "      <td>33000</td>\n",
       "      <td>0</td>\n",
       "    </tr>\n",
       "    <tr>\n",
       "      <th>399</th>\n",
       "      <td>49</td>\n",
       "      <td>36000</td>\n",
       "      <td>1</td>\n",
       "    </tr>\n",
       "  </tbody>\n",
       "</table>\n",
       "<p>400 rows × 3 columns</p>\n",
       "</div>"
      ],
      "text/plain": [
       "     Age  EstimatedSalary  Purchased\n",
       "0     19            19000          0\n",
       "1     35            20000          0\n",
       "2     26            43000          0\n",
       "3     27            57000          0\n",
       "4     19            76000          0\n",
       "..   ...              ...        ...\n",
       "395   46            41000          1\n",
       "396   51            23000          1\n",
       "397   50            20000          1\n",
       "398   36            33000          0\n",
       "399   49            36000          1\n",
       "\n",
       "[400 rows x 3 columns]"
      ]
     },
     "execution_count": 5,
     "metadata": {},
     "output_type": "execute_result"
    }
   ],
   "source": [
    "dataset"
   ]
  },
  {
   "cell_type": "markdown",
   "id": "86974634",
   "metadata": {},
   "source": [
    "## The from scratch model."
   ]
  },
  {
   "cell_type": "code",
   "execution_count": 6,
   "id": "81c3cb4d",
   "metadata": {},
   "outputs": [],
   "source": [
    "from sklearn.metrics import confusion_matrix, accuracy_score"
   ]
  },
  {
   "cell_type": "code",
   "execution_count": 7,
   "id": "72188141",
   "metadata": {
    "scrolled": false
   },
   "outputs": [],
   "source": [
    "#initializing\n",
    "kNN_scr = kNN_Scratch(5) \n",
    "\n",
    "#fitting the data\n",
    "kNN_scr.fit( X_train, y_train)  \n",
    "\n",
    "#getting the predictions on test set.\n",
    "y_pred = kNN_scr.predict(X_test) "
   ]
  },
  {
   "cell_type": "code",
   "execution_count": 8,
   "id": "d0bb39fc",
   "metadata": {},
   "outputs": [
    {
     "name": "stdout",
     "output_type": "stream",
     "text": [
      "[[59  9]\n",
      " [ 8 24]]\n"
     ]
    },
    {
     "data": {
      "text/plain": [
       "0.83"
      ]
     },
     "execution_count": 8,
     "metadata": {},
     "output_type": "execute_result"
    }
   ],
   "source": [
    "#initializing the confusion matrix.\n",
    "cm = confusion_matrix(y_test, y_pred) \n",
    "\n",
    "print(cm) \n",
    "#printing the accuracy of the model on the test set.\n",
    "accuracy_score(y_test, y_pred)"
   ]
  },
  {
   "cell_type": "markdown",
   "id": "7b591392",
   "metadata": {},
   "source": [
    "## Imported model"
   ]
  },
  {
   "cell_type": "code",
   "execution_count": 9,
   "id": "9719174a",
   "metadata": {},
   "outputs": [
    {
     "data": {
      "text/plain": [
       "KNeighborsClassifier()"
      ]
     },
     "execution_count": 9,
     "metadata": {},
     "output_type": "execute_result"
    }
   ],
   "source": [
    "from sklearn.neighbors import KNeighborsClassifier \n",
    "#initilizing the model\n",
    "classifier = KNeighborsClassifier(n_neighbors = 5, metric = 'minkowski', p = 2) \n",
    "\n",
    "#fitting the data.\n",
    "classifier.fit(X_train, y_train)"
   ]
  },
  {
   "cell_type": "code",
   "execution_count": 12,
   "id": "e5080e1d",
   "metadata": {
    "scrolled": true
   },
   "outputs": [],
   "source": [
    "#getting the predictions on test set.\n",
    "y_pred = classifier.predict(X_test) "
   ]
  },
  {
   "cell_type": "code",
   "execution_count": 13,
   "id": "0c3573fa",
   "metadata": {
    "scrolled": true
   },
   "outputs": [
    {
     "name": "stdout",
     "output_type": "stream",
     "text": [
      "[[59  9]\n",
      " [ 8 24]]\n"
     ]
    },
    {
     "data": {
      "text/plain": [
       "0.83"
      ]
     },
     "execution_count": 13,
     "metadata": {},
     "output_type": "execute_result"
    }
   ],
   "source": [
    "#initializing the confusion matrix.\n",
    "cm = confusion_matrix(y_test, y_pred) \n",
    "\n",
    "print(cm) \n",
    "#printing the accuracy of the model on the test set.\n",
    "accuracy_score(y_test, y_pred)"
   ]
  },
  {
   "cell_type": "markdown",
   "id": "6589f5ad",
   "metadata": {},
   "source": [
    "### Conclusion:\n",
    "##### 1. By the confusion matrix details, we have 17 incorrect predictions out of 100. Meaning that 83 are correct.  \n",
    "##### 2. Also the models have the same accuracy but the from_scratch model is much slower :) "
   ]
  }
 ],
 "metadata": {
  "kernelspec": {
   "display_name": "Python 3 (ipykernel)",
   "language": "python",
   "name": "python3"
  },
  "language_info": {
   "codemirror_mode": {
    "name": "ipython",
    "version": 3
   },
   "file_extension": ".py",
   "mimetype": "text/x-python",
   "name": "python",
   "nbconvert_exporter": "python",
   "pygments_lexer": "ipython3",
   "version": "3.7.9"
  }
 },
 "nbformat": 4,
 "nbformat_minor": 5
}
