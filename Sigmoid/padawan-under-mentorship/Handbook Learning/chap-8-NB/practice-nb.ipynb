{
 "cells": [
  {
   "cell_type": "code",
   "execution_count": 1,
   "id": "5489f1fe",
   "metadata": {},
   "outputs": [],
   "source": [
    "from collections import OrderedDict\n",
    "from functools import reduce \n",
    "from operator import mul"
   ]
  },
  {
   "cell_type": "code",
   "execution_count": 2,
   "id": "9c8e28d7",
   "metadata": {},
   "outputs": [],
   "source": [
    "import numpy as np \n",
    "import pandas as pd"
   ]
  },
  {
   "cell_type": "code",
   "execution_count": 3,
   "id": "2f9bdfa7",
   "metadata": {},
   "outputs": [],
   "source": [
    "class Gauss:\n",
    "    \n",
    "    def fit(self,X : np.array, y : np.array):\n",
    "        \"\"\"\"\n",
    "             The fitting function of the gassuan naive bayes model.\n",
    "        :param X: np.array\n",
    "            The feature matrix.\n",
    "        :param y: np.array\n",
    "            The target vector.\n",
    "        :return: Gausss\n",
    "              This function return the oject of the trained model.\n",
    "        \"\"\" \n",
    "        \n",
    "        # Preparing the mean, standard deviation and priors vectors. \n",
    "        self.mu = OrderedDict()\n",
    "        self.std = OrderedDict()\n",
    "        self.priors = OrderedDict() \n",
    "        \n",
    "        # Computing th mean, standard deviation and prior vectors for every class \n",
    "        for cls in np.unique(y):\n",
    "            self.priors[cls] = len(y [ y == cls ]) / len(y) \n",
    "            self.mu[cls] = np.mean(X[np.where( y == cls)], axis = 0 )\n",
    "            self.std[cls] = np.std(X [np.where( y == cls )], axis = 0) \n",
    "        return self \n",
    "    \n",
    "    def normal_distribution(self, x : np.array, cls : str, i : int) -> float:\n",
    "        \"\"\"\"\n",
    "            The normal distribution formula.\n",
    "        :param x : np.array\n",
    "            The sample for which we want to find the probability.\n",
    "        :param cls : str or int\n",
    "            The class for which we want to compute the probability.\n",
    "        :param i : int \n",
    "             The index of the feature\n",
    "        :return float \n",
    "             The probability of the sample for the normal distribution.\n",
    "        \"\"\"\n",
    "        \n",
    "        exponent = np.exp(-((x[i] - self.mu[cls][i]) ** 2)) \n",
    "        exponent /= (2*self.std[cls][i] ** 2) \n",
    "        return (1/ (np.sqrt(2 * np.pi) * self.std[cls][i] ** 2 )) * exponent \n",
    "    \n",
    "    def predict_proba(self, X : np.array ) -> np.array:\n",
    "        \"\"\"\"\n",
    "            This function return the probability for\n",
    "            eevery sample in the data set.\n",
    "        :param X: np.array\n",
    "            The feature matrix passed to make predictions on.\n",
    "        :return: np.array\n",
    "            An array with the probabilities for every class for every sample \n",
    "        \"\"\"\n",
    "        \n",
    "        # Creating the empty list with probabilities \n",
    "        y_pred = []\n",
    "        \n",
    "        # Computing the probabilities for every class for this sample.  \n",
    "        for x in X:\n",
    "            y_pred.append([]) \n",
    "            \n",
    "            for cls in self.priors:\n",
    "                prob = reduce(mul, [self.normal_distribution(x,cls,i)\n",
    "                                    for i in range(len(x))]) * self.priors[cls] \n",
    "                y_pred[-1].append(prob)  \n",
    "            \n",
    "            y_pred[-1] = np.array(y_pred[-1]) \n",
    "\n",
    "            # Normalizing the vector \n",
    "            for i in range (len(y_pred[-1])):\n",
    "                y_pred[-1] = y_pred[-1] / np.linalg.norm(y_pred[-1]) \n",
    "        return np.array(y_pred)  \n",
    "    \n",
    "    def predict(self, X : np.array) -> np.array:\n",
    "        \"\"\"\"\n",
    "            This function return the precited class for every \n",
    "            sample in the data set.\n",
    "        :param X : np.array \n",
    "            The feature matrix passed to make predcitions on.\n",
    "        :return: np.array \n",
    "            An array with the predicted classes for every class for every sample.\n",
    "        \"\"\" \n",
    "        \n",
    "        # Creating the empty list for storing the predicted classes. \n",
    "        y = [] \n",
    "        \n",
    "        # Getting the precited probabilities fro every passed sample. \n",
    "        probas = self.predict_proba(X) \n",
    "        \n",
    "        # Getting the class with the highest probability for every sample.\n",
    "        for pr in probas:\n",
    "            y.append( \n",
    "                list(self.priors.keys())[np.argmax(pr)]\n",
    "            ) \n",
    "        return y \n"
   ]
  },
  {
   "cell_type": "code",
   "execution_count": 4,
   "id": "2c8d59d6",
   "metadata": {},
   "outputs": [],
   "source": [
    "dataset = pd.read_csv('heart.csv')"
   ]
  },
  {
   "cell_type": "code",
   "execution_count": 25,
   "id": "d843a2a0",
   "metadata": {},
   "outputs": [],
   "source": [
    "X = dataset.iloc[:, :-1].values\n",
    "y = dataset.iloc[:, -1].values"
   ]
  },
  {
   "cell_type": "code",
   "execution_count": 26,
   "id": "05da9bfc",
   "metadata": {},
   "outputs": [],
   "source": [
    "from sklearn.model_selection import train_test_split\n",
    "X_train, X_test, y_train, y_test = train_test_split(X, y, test_size = 0.25, random_state = 0)"
   ]
  },
  {
   "cell_type": "code",
   "execution_count": 27,
   "id": "ba7ba53c",
   "metadata": {},
   "outputs": [],
   "source": [
    "from sklearn.preprocessing import StandardScaler\n",
    "sc = StandardScaler()\n",
    "X_train = sc.fit_transform(X_train)\n",
    "X_test = sc.transform(X_test) "
   ]
  },
  {
   "cell_type": "code",
   "execution_count": 28,
   "id": "70c9e3ce",
   "metadata": {},
   "outputs": [
    {
     "data": {
      "text/plain": [
       "GaussianNB()"
      ]
     },
     "execution_count": 28,
     "metadata": {},
     "output_type": "execute_result"
    }
   ],
   "source": [
    "from sklearn.naive_bayes import GaussianNB\n",
    "classifier = GaussianNB()\n",
    "classifier.fit(X_train, y_train) "
   ]
  },
  {
   "cell_type": "code",
   "execution_count": 29,
   "id": "a85cd387",
   "metadata": {
    "scrolled": true
   },
   "outputs": [],
   "source": [
    "y_pred = classifier.predict(X_test) \n",
    "\n",
    "#print(np.concatenate((y_pred.reshape(len(y_pred),1), y_test.reshape(len(y_test),1)),1))"
   ]
  },
  {
   "cell_type": "markdown",
   "id": "466d756f",
   "metadata": {},
   "source": [
    "# Results from sklearn \n"
   ]
  },
  {
   "cell_type": "code",
   "execution_count": 30,
   "id": "fb13988b",
   "metadata": {},
   "outputs": [
    {
     "name": "stdout",
     "output_type": "stream",
     "text": [
      "[[24  9]\n",
      " [ 4 39]]\n"
     ]
    },
    {
     "data": {
      "text/plain": [
       "0.8289473684210527"
      ]
     },
     "execution_count": 30,
     "metadata": {},
     "output_type": "execute_result"
    }
   ],
   "source": [
    "from sklearn.metrics import confusion_matrix, accuracy_score\n",
    "cm = confusion_matrix(y_test, y_pred)\n",
    "print(cm)\n",
    "accuracy_score(y_test, y_pred) "
   ]
  },
  {
   "cell_type": "code",
   "execution_count": 12,
   "id": "bac5860e",
   "metadata": {},
   "outputs": [],
   "source": [
    "X = dataset.iloc[:, :-1].values\n",
    "y = dataset.iloc[:, -1].values"
   ]
  },
  {
   "cell_type": "code",
   "execution_count": 13,
   "id": "3bc59640",
   "metadata": {},
   "outputs": [],
   "source": [
    "gaus = Gauss()"
   ]
  },
  {
   "cell_type": "code",
   "execution_count": 14,
   "id": "f8c65232",
   "metadata": {},
   "outputs": [],
   "source": [
    "from sklearn.model_selection import train_test_split\n",
    "X_train, X_test, y_train, y_test = train_test_split(X, y, test_size = 0.25, random_state = 42)"
   ]
  },
  {
   "cell_type": "code",
   "execution_count": 15,
   "id": "70752c2a",
   "metadata": {},
   "outputs": [],
   "source": [
    "from sklearn.preprocessing import StandardScaler\n",
    "sc = StandardScaler()\n",
    "X_train = sc.fit_transform(X_train)\n",
    "X_test = sc.transform(X_test) "
   ]
  },
  {
   "cell_type": "code",
   "execution_count": 16,
   "id": "1a07c1f6",
   "metadata": {},
   "outputs": [
    {
     "data": {
      "text/plain": [
       "<__main__.Gauss at 0x1bd7a3ee9c8>"
      ]
     },
     "execution_count": 16,
     "metadata": {},
     "output_type": "execute_result"
    }
   ],
   "source": [
    "gaus.fit(X_train, y_train)"
   ]
  },
  {
   "cell_type": "code",
   "execution_count": 17,
   "id": "bb77a267",
   "metadata": {},
   "outputs": [],
   "source": [
    "y_pred = gaus.predict(X_test)"
   ]
  },
  {
   "cell_type": "markdown",
   "id": "109b1170",
   "metadata": {},
   "source": [
    "# Result from from-scratch\n"
   ]
  },
  {
   "cell_type": "code",
   "execution_count": 18,
   "id": "e3ddf7cd",
   "metadata": {},
   "outputs": [
    {
     "name": "stdout",
     "output_type": "stream",
     "text": [
      "[[27  8]\n",
      " [ 3 38]]\n"
     ]
    },
    {
     "data": {
      "text/plain": [
       "0.8552631578947368"
      ]
     },
     "execution_count": 18,
     "metadata": {},
     "output_type": "execute_result"
    }
   ],
   "source": [
    "from sklearn.metrics import confusion_matrix, accuracy_score\n",
    "cm = confusion_matrix(y_test, y_pred)\n",
    "print(cm)\n",
    "accuracy_score(y_test, y_pred) "
   ]
  }
 ],
 "metadata": {
  "kernelspec": {
   "display_name": "Python 3 (ipykernel)",
   "language": "python",
   "name": "python3"
  },
  "language_info": {
   "codemirror_mode": {
    "name": "ipython",
    "version": 3
   },
   "file_extension": ".py",
   "mimetype": "text/x-python",
   "name": "python",
   "nbconvert_exporter": "python",
   "pygments_lexer": "ipython3",
   "version": "3.7.9"
  }
 },
 "nbformat": 4,
 "nbformat_minor": 5
}
