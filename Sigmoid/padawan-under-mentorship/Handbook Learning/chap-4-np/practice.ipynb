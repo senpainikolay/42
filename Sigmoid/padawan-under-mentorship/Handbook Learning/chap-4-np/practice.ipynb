{
 "cells": [
  {
   "cell_type": "code",
   "execution_count": 1,
   "id": "da1e7b95",
   "metadata": {},
   "outputs": [],
   "source": [
    "import numpy as np"
   ]
  },
  {
   "cell_type": "code",
   "execution_count": 2,
   "id": "e28a5a01",
   "metadata": {},
   "outputs": [],
   "source": [
    "np.random.seed()"
   ]
  },
  {
   "cell_type": "code",
   "execution_count": 5,
   "id": "3f444776",
   "metadata": {},
   "outputs": [],
   "source": [
    "vector = np.random.randint(10, size=6) \n",
    "matrix = np.random.randint(10, size = (3,4)) \n",
    "tensor = np.random.randint(10, size = (3,4,5))"
   ]
  },
  {
   "cell_type": "code",
   "execution_count": 10,
   "id": "0e164257",
   "metadata": {},
   "outputs": [
    {
     "name": "stdout",
     "output_type": "stream",
     "text": [
      "1 2 3\n"
     ]
    }
   ],
   "source": [
    "#number of dimensions\n",
    "print( vector.ndim, matrix.ndim, tensor.ndim) "
   ]
  },
  {
   "cell_type": "code",
   "execution_count": 11,
   "id": "ae814220",
   "metadata": {},
   "outputs": [
    {
     "name": "stdout",
     "output_type": "stream",
     "text": [
      "(6,) (3, 4) (3, 4, 5)\n"
     ]
    }
   ],
   "source": [
    "#shape of the array\n",
    "print( vector.shape, matrix.shape, tensor.shape)"
   ]
  },
  {
   "cell_type": "code",
   "execution_count": 12,
   "id": "0b8abf13",
   "metadata": {},
   "outputs": [
    {
     "name": "stdout",
     "output_type": "stream",
     "text": [
      "6 12 60\n"
     ]
    }
   ],
   "source": [
    "#number of elements\n",
    "print( vector.size, matrix.size, tensor.size)"
   ]
  },
  {
   "cell_type": "code",
   "execution_count": 13,
   "id": "05bd6fa4",
   "metadata": {},
   "outputs": [
    {
     "name": "stdout",
     "output_type": "stream",
     "text": [
      "int32 int32 int32\n"
     ]
    }
   ],
   "source": [
    "#data type of tensors.\n",
    "print( vector.dtype, matrix.dtype, tensor.dtype)"
   ]
  },
  {
   "cell_type": "code",
   "execution_count": 25,
   "id": "3f678380",
   "metadata": {},
   "outputs": [
    {
     "name": "stdout",
     "output_type": "stream",
     "text": [
      "V: 2 \n",
      "M: [5 1 3 3] \n",
      "T:\n",
      " [[0 8 6 0 2]\n",
      " [9 9 2 5 9]\n",
      " [0 0 0 4 0]\n",
      " [3 1 0 1 1]]\n"
     ]
    }
   ],
   "source": [
    "#Index 0\n",
    "print(\"V:\", vector[0],\"\\nM:\", matrix[0],\"\\nT:\\n\", tensor[0])"
   ]
  },
  {
   "cell_type": "code",
   "execution_count": 32,
   "id": "caf7c661",
   "metadata": {},
   "outputs": [
    {
     "name": "stdout",
     "output_type": "stream",
     "text": [
      "V: 2 \n",
      "M: 5 \n",
      "T: [0 8 6 0 2] \n",
      "T: 0\n"
     ]
    }
   ],
   "source": [
    "#first index on 1d, 2d, 3d\n",
    "print(\"V:\", vector[0],\"\\nM:\", matrix[0][0],\"\\nT:\", tensor[0][0], \"\\nT:\", tensor[0][0][0])"
   ]
  },
  {
   "cell_type": "code",
   "execution_count": 34,
   "id": "2cb9cf61",
   "metadata": {},
   "outputs": [
    {
     "data": {
      "text/plain": [
       "array([2, 5, 6, 7, 7, 2])"
      ]
     },
     "execution_count": 34,
     "metadata": {},
     "output_type": "execute_result"
    }
   ],
   "source": [
    "vector"
   ]
  },
  {
   "cell_type": "code",
   "execution_count": 35,
   "id": "ef472a0f",
   "metadata": {},
   "outputs": [
    {
     "data": {
      "text/plain": [
       "array([2, 5, 6])"
      ]
     },
     "execution_count": 35,
     "metadata": {},
     "output_type": "execute_result"
    }
   ],
   "source": [
    "vector[:3]"
   ]
  },
  {
   "cell_type": "code",
   "execution_count": 36,
   "id": "5f4926ac",
   "metadata": {},
   "outputs": [
    {
     "data": {
      "text/plain": [
       "array([7, 7, 2])"
      ]
     },
     "execution_count": 36,
     "metadata": {},
     "output_type": "execute_result"
    }
   ],
   "source": [
    "vector[3:]"
   ]
  },
  {
   "cell_type": "code",
   "execution_count": 37,
   "id": "35a6491f",
   "metadata": {},
   "outputs": [
    {
     "data": {
      "text/plain": [
       "array([2, 6, 7])"
      ]
     },
     "execution_count": 37,
     "metadata": {},
     "output_type": "execute_result"
    }
   ],
   "source": [
    "vector[::2]"
   ]
  },
  {
   "cell_type": "code",
   "execution_count": 38,
   "id": "fdd88d03",
   "metadata": {},
   "outputs": [
    {
     "data": {
      "text/plain": [
       "array([[5, 1, 3, 3],\n",
       "       [7, 3, 9, 3],\n",
       "       [1, 6, 6, 9]])"
      ]
     },
     "execution_count": 38,
     "metadata": {},
     "output_type": "execute_result"
    }
   ],
   "source": [
    "matrix"
   ]
  },
  {
   "cell_type": "code",
   "execution_count": 43,
   "id": "fba3af54",
   "metadata": {},
   "outputs": [
    {
     "data": {
      "text/plain": [
       "array([[5, 3],\n",
       "       [7, 9],\n",
       "       [1, 6]])"
      ]
     },
     "execution_count": 43,
     "metadata": {},
     "output_type": "execute_result"
    }
   ],
   "source": [
    "matrix[:,::2]"
   ]
  },
  {
   "cell_type": "code",
   "execution_count": 44,
   "id": "ff4602fd",
   "metadata": {},
   "outputs": [
    {
     "data": {
      "text/plain": [
       "array([[5, 1, 3],\n",
       "       [7, 3, 9],\n",
       "       [1, 6, 6]])"
      ]
     },
     "execution_count": 44,
     "metadata": {},
     "output_type": "execute_result"
    }
   ],
   "source": [
    "matrix[:,:3]"
   ]
  },
  {
   "cell_type": "code",
   "execution_count": 45,
   "id": "ac7ed2bc",
   "metadata": {},
   "outputs": [
    {
     "data": {
      "text/plain": [
       "array([ 2, 99,  6,  7,  7,  2])"
      ]
     },
     "execution_count": 45,
     "metadata": {},
     "output_type": "execute_result"
    }
   ],
   "source": [
    "vector[1] = 99\n",
    "vector"
   ]
  },
  {
   "cell_type": "code",
   "execution_count": 52,
   "id": "7463e389",
   "metadata": {},
   "outputs": [],
   "source": [
    "matrix[:,0] = np.zeros(1)"
   ]
  },
  {
   "cell_type": "code",
   "execution_count": 53,
   "id": "99917410",
   "metadata": {},
   "outputs": [
    {
     "data": {
      "text/plain": [
       "array([[0, 1, 3, 3],\n",
       "       [0, 3, 9, 3],\n",
       "       [0, 6, 6, 9]])"
      ]
     },
     "execution_count": 53,
     "metadata": {},
     "output_type": "execute_result"
    }
   ],
   "source": [
    "matrix"
   ]
  },
  {
   "cell_type": "code",
   "execution_count": 57,
   "id": "432195aa",
   "metadata": {},
   "outputs": [
    {
     "data": {
      "text/plain": [
       "array([0., 0., 0.])"
      ]
     },
     "execution_count": 57,
     "metadata": {},
     "output_type": "execute_result"
    }
   ],
   "source": [
    "np.zeros(3)"
   ]
  },
  {
   "cell_type": "code",
   "execution_count": 58,
   "id": "65ae7df2",
   "metadata": {},
   "outputs": [
    {
     "data": {
      "text/plain": [
       "array([[0., 0., 0., 0.],\n",
       "       [0., 0., 0., 0.]])"
      ]
     },
     "execution_count": 58,
     "metadata": {},
     "output_type": "execute_result"
    }
   ],
   "source": [
    "np.zeros((2,4))"
   ]
  },
  {
   "cell_type": "code",
   "execution_count": 59,
   "id": "4bb0093d",
   "metadata": {},
   "outputs": [
    {
     "data": {
      "text/plain": [
       "array([[1., 1., 1., 1.],\n",
       "       [1., 1., 1., 1.]])"
      ]
     },
     "execution_count": 59,
     "metadata": {},
     "output_type": "execute_result"
    }
   ],
   "source": [
    "np.ones((2,4))"
   ]
  },
  {
   "cell_type": "code",
   "execution_count": 60,
   "id": "b5c57576",
   "metadata": {},
   "outputs": [
    {
     "name": "stdout",
     "output_type": "stream",
     "text": [
      "2000075742736\n",
      "2000075742736\n"
     ]
    }
   ],
   "source": [
    "# pointing to the same Memory Location\n",
    "fake_copy = vector\n",
    "print(id(vector)) \n",
    "print(id(fake_copy)) \n"
   ]
  },
  {
   "cell_type": "code",
   "execution_count": 61,
   "id": "87ee575a",
   "metadata": {},
   "outputs": [
    {
     "name": "stdout",
     "output_type": "stream",
     "text": [
      "2000075742736\n",
      "2000092599856\n"
     ]
    }
   ],
   "source": [
    "# .copy() is necessary\n",
    "real_copy = vector.copy() \n",
    "print(id(vector)) \n",
    "print(id(real_copy)) "
   ]
  },
  {
   "cell_type": "code",
   "execution_count": 63,
   "id": "40d1f4d8",
   "metadata": {},
   "outputs": [
    {
     "name": "stdout",
     "output_type": "stream",
     "text": [
      "[ 2 99  6  7  7  2]\n",
      "[ 2 99  6  7  7  2]\n",
      "[ 2 99  6  7  7  2]\n"
     ]
    }
   ],
   "source": [
    "print(vector)\n",
    "print(real_copy) \n",
    "print(fake_copy)"
   ]
  },
  {
   "cell_type": "code",
   "execution_count": 64,
   "id": "0bab56d3",
   "metadata": {},
   "outputs": [
    {
     "name": "stdout",
     "output_type": "stream",
     "text": [
      "[ 0 99  6  7  7  2]\n",
      "[ 2 99  6  7  7  2]\n",
      "[ 0 99  6  7  7  2]\n"
     ]
    }
   ],
   "source": [
    "# Demonstration\n",
    "vector[0] = 0 \n",
    "print(vector)\n",
    "print(real_copy) \n",
    "print(fake_copy)"
   ]
  },
  {
   "cell_type": "code",
   "execution_count": 65,
   "id": "df60ffb7",
   "metadata": {},
   "outputs": [
    {
     "data": {
      "text/plain": [
       "array([1, 2, 3, 4, 5, 6])"
      ]
     },
     "execution_count": 65,
     "metadata": {},
     "output_type": "execute_result"
    }
   ],
   "source": [
    "x1 = np.array([1,2,3]) \n",
    "x2 = np.array([4,5,6])\n",
    "np.concatenate([x1,x2]) "
   ]
  },
  {
   "cell_type": "code",
   "execution_count": 67,
   "id": "9a0c3516",
   "metadata": {},
   "outputs": [],
   "source": [
    "matrix = np.array([[1,2,3],\n",
    "                   [4,5,6]])\n"
   ]
  },
  {
   "cell_type": "code",
   "execution_count": 68,
   "id": "e018baa7",
   "metadata": {},
   "outputs": [
    {
     "data": {
      "text/plain": [
       "array([[1, 2, 3],\n",
       "       [4, 5, 6],\n",
       "       [1, 2, 3],\n",
       "       [4, 5, 6]])"
      ]
     },
     "execution_count": 68,
     "metadata": {},
     "output_type": "execute_result"
    }
   ],
   "source": [
    "np.concatenate([matrix,matrix])"
   ]
  },
  {
   "cell_type": "code",
   "execution_count": 69,
   "id": "fc74b9fa",
   "metadata": {},
   "outputs": [
    {
     "data": {
      "text/plain": [
       "array([[1, 2, 3, 1, 2, 3],\n",
       "       [4, 5, 6, 4, 5, 6]])"
      ]
     },
     "execution_count": 69,
     "metadata": {},
     "output_type": "execute_result"
    }
   ],
   "source": [
    "np.concatenate([matrix,matrix], axis = 1)"
   ]
  },
  {
   "cell_type": "code",
   "execution_count": 70,
   "id": "3876a1f6",
   "metadata": {},
   "outputs": [],
   "source": [
    "x = np.array([1,2,3]) \n",
    "grid = np.array([[4,5,6],\n",
    "                  [7,8,9]])"
   ]
  },
  {
   "cell_type": "code",
   "execution_count": 71,
   "id": "1318e63e",
   "metadata": {},
   "outputs": [
    {
     "data": {
      "text/plain": [
       "array([[1, 2, 3],\n",
       "       [4, 5, 6],\n",
       "       [7, 8, 9]])"
      ]
     },
     "execution_count": 71,
     "metadata": {},
     "output_type": "execute_result"
    }
   ],
   "source": [
    "np.vstack([x,grid])"
   ]
  },
  {
   "cell_type": "code",
   "execution_count": 74,
   "id": "9b00ea27",
   "metadata": {},
   "outputs": [],
   "source": [
    "x = np.array( [ [99],  [99] ] )"
   ]
  },
  {
   "cell_type": "code",
   "execution_count": 77,
   "id": "1acb26bc",
   "metadata": {},
   "outputs": [
    {
     "data": {
      "text/plain": [
       "array([[99,  4,  5,  6],\n",
       "       [99,  7,  8,  9]])"
      ]
     },
     "execution_count": 77,
     "metadata": {},
     "output_type": "execute_result"
    }
   ],
   "source": [
    "np.hstack([x,grid])"
   ]
  },
  {
   "cell_type": "code",
   "execution_count": 78,
   "id": "81df3d0c",
   "metadata": {},
   "outputs": [],
   "source": [
    "x = np.array([1,2,3,4,5,6,7,8,9,10])"
   ]
  },
  {
   "cell_type": "code",
   "execution_count": 100,
   "id": "94fabfe8",
   "metadata": {},
   "outputs": [],
   "source": [
    "first, sec = np.split(x, [8])"
   ]
  },
  {
   "cell_type": "code",
   "execution_count": 101,
   "id": "b4a15842",
   "metadata": {
    "scrolled": true
   },
   "outputs": [
    {
     "name": "stdout",
     "output_type": "stream",
     "text": [
      "[1 2 3 4 5 6 7 8] [ 9 10]\n"
     ]
    }
   ],
   "source": [
    "print(first, sec)"
   ]
  },
  {
   "cell_type": "code",
   "execution_count": 98,
   "id": "644f8f8e",
   "metadata": {},
   "outputs": [],
   "source": [
    "matrix = np.arange(16).reshape((4,4))"
   ]
  },
  {
   "cell_type": "code",
   "execution_count": 99,
   "id": "733dcdd3",
   "metadata": {
    "scrolled": true
   },
   "outputs": [
    {
     "data": {
      "text/plain": [
       "array([[ 0,  1,  2,  3],\n",
       "       [ 4,  5,  6,  7],\n",
       "       [ 8,  9, 10, 11],\n",
       "       [12, 13, 14, 15]])"
      ]
     },
     "execution_count": 99,
     "metadata": {},
     "output_type": "execute_result"
    }
   ],
   "source": [
    "matrix"
   ]
  },
  {
   "cell_type": "code",
   "execution_count": 123,
   "id": "7af3f4ff",
   "metadata": {},
   "outputs": [
    {
     "name": "stdout",
     "output_type": "stream",
     "text": [
      "[[ 0  1  2  3]\n",
      " [ 4  5  6  7]\n",
      " [ 8  9 10 11]] \n",
      " --- \n",
      " [[12 13 14 15]]\n"
     ]
    }
   ],
   "source": [
    "# vsplit taking the row  index as  argument\n",
    "upper, lower = np.vsplit(matrix, [3]) \n",
    "print(upper,\"\\n --- \\n\", lower)"
   ]
  },
  {
   "cell_type": "code",
   "execution_count": 126,
   "id": "1938f773",
   "metadata": {
    "scrolled": true
   },
   "outputs": [
    {
     "name": "stdout",
     "output_type": "stream",
     "text": [
      "[[ 0  1]\n",
      " [ 4  5]\n",
      " [ 8  9]\n",
      " [12 13]] \n",
      " --- \n",
      "  [[ 2  3]\n",
      " [ 6  7]\n",
      " [10 11]\n",
      " [14 15]]\n"
     ]
    }
   ],
   "source": [
    "# hsplit taking the column  index as  argument\n",
    "left, right = np.hsplit(matrix, [2]) \n",
    "print(left,\"\\n --- \\n \", right)"
   ]
  },
  {
   "cell_type": "code",
   "execution_count": 127,
   "id": "9fe26958",
   "metadata": {},
   "outputs": [],
   "source": [
    "def compute_inverse(values):\n",
    "    out = np.empty(len(values))\n",
    "    for i in range (len(values)):\n",
    "        out[i] = 1.0 / values[i] \n",
    "    return out "
   ]
  },
  {
   "cell_type": "code",
   "execution_count": 138,
   "id": "a59266a4",
   "metadata": {
    "scrolled": true
   },
   "outputs": [],
   "source": [
    "# Comparing the efficiency\n",
    "values = np.random.randint(1, 100, size = 10000000 ) "
   ]
  },
  {
   "cell_type": "code",
   "execution_count": 139,
   "id": "6b083c8e",
   "metadata": {},
   "outputs": [
    {
     "name": "stdout",
     "output_type": "stream",
     "text": [
      "16.1 s ± 0 ns per loop (mean ± std. dev. of 1 run, 1 loop each)\n"
     ]
    }
   ],
   "source": [
    "%%timeit -n 1 -r 1\n",
    "compute_inverse(values)"
   ]
  },
  {
   "cell_type": "code",
   "execution_count": 141,
   "id": "652c1853",
   "metadata": {},
   "outputs": [
    {
     "name": "stdout",
     "output_type": "stream",
     "text": [
      "[0.04       0.01086957 0.01515152 ... 0.01219512 0.01428571 0.01282051]\n",
      "37.8 ms ± 0 ns per loop (mean ± std. dev. of 1 run, 1 loop each)\n"
     ]
    }
   ],
   "source": [
    "%%timeit -n 1 -r 1\n",
    "print(1.0/values)"
   ]
  },
  {
   "cell_type": "code",
   "execution_count": 143,
   "id": "6a7f2d06",
   "metadata": {},
   "outputs": [],
   "source": [
    "x = np.arange(10)"
   ]
  },
  {
   "cell_type": "code",
   "execution_count": 144,
   "id": "8c0a7b0f",
   "metadata": {},
   "outputs": [
    {
     "data": {
      "text/plain": [
       "array([0, 1, 2, 3, 4, 5, 6, 7, 8, 9])"
      ]
     },
     "execution_count": 144,
     "metadata": {},
     "output_type": "execute_result"
    }
   ],
   "source": [
    "x"
   ]
  },
  {
   "cell_type": "code",
   "execution_count": 154,
   "id": "9db1c7ad",
   "metadata": {},
   "outputs": [
    {
     "name": "stdout",
     "output_type": "stream",
     "text": [
      "[ 2  3  4  5  6  7  8  9 10 11]\n",
      "[ 2  3  4  5  6  7  8  9 10 11]\n"
     ]
    }
   ],
   "source": [
    "print(x+2)   \n",
    "\n",
    "print(np.add(x,2))"
   ]
  },
  {
   "cell_type": "code",
   "execution_count": 156,
   "id": "dca3fc10",
   "metadata": {},
   "outputs": [
    {
     "name": "stdout",
     "output_type": "stream",
     "text": [
      "[-2 -1  0  1  2  3  4  5  6  7]\n",
      "[-2 -1  0  1  2  3  4  5  6  7]\n"
     ]
    }
   ],
   "source": [
    "print(x-2) \n",
    "\n",
    "print(np.subtract(x,2))"
   ]
  },
  {
   "cell_type": "code",
   "execution_count": 157,
   "id": "0a556203",
   "metadata": {},
   "outputs": [
    {
     "name": "stdout",
     "output_type": "stream",
     "text": [
      "[ 0  3  6  9 12 15 18 21 24 27]\n",
      "[ 0  3  6  9 12 15 18 21 24 27]\n"
     ]
    }
   ],
   "source": [
    "print(x*3) \n",
    "\n",
    "print(np.multiply(x,3))"
   ]
  },
  {
   "cell_type": "code",
   "execution_count": 158,
   "id": "37aeca36",
   "metadata": {},
   "outputs": [
    {
     "name": "stdout",
     "output_type": "stream",
     "text": [
      "[0.   0.25 0.5  0.75 1.   1.25 1.5  1.75 2.   2.25]\n",
      "[0.   0.25 0.5  0.75 1.   1.25 1.5  1.75 2.   2.25]\n"
     ]
    }
   ],
   "source": [
    "print(x/4) \n",
    "\n",
    "print(np.divide(x,4))"
   ]
  },
  {
   "cell_type": "code",
   "execution_count": 161,
   "id": "35761bad",
   "metadata": {},
   "outputs": [
    {
     "name": "stdout",
     "output_type": "stream",
     "text": [
      "[0 0 0 0 1 1 1 1 2 2]\n",
      "[0 0 0 0 1 1 1 1 2 2]\n"
     ]
    }
   ],
   "source": [
    "print(x//4) \n",
    "\n",
    "print(np.floor_divide(x,4))"
   ]
  },
  {
   "cell_type": "code",
   "execution_count": 162,
   "id": "473b0877",
   "metadata": {},
   "outputs": [
    {
     "name": "stdout",
     "output_type": "stream",
     "text": [
      "[ 0  1  4  9 16 25 36 49 64 81]\n",
      "[ 0  1  4  9 16 25 36 49 64 81]\n"
     ]
    }
   ],
   "source": [
    "print(x**2) \n",
    "\n",
    "print( np.power(x, 2) )"
   ]
  },
  {
   "cell_type": "code",
   "execution_count": 163,
   "id": "0b23eeb6",
   "metadata": {},
   "outputs": [
    {
     "name": "stdout",
     "output_type": "stream",
     "text": [
      "[0 1 2 0 1 2 0 1 2 0]\n",
      "[0 1 2 0 1 2 0 1 2 0]\n"
     ]
    }
   ],
   "source": [
    "print(x%3) \n",
    "\n",
    "print( np.mod(x, 3) )"
   ]
  },
  {
   "cell_type": "code",
   "execution_count": 165,
   "id": "5ddc42e5",
   "metadata": {},
   "outputs": [],
   "source": [
    "x = np.array([-2,-1,0,1,2])"
   ]
  },
  {
   "cell_type": "code",
   "execution_count": 166,
   "id": "8e133fad",
   "metadata": {},
   "outputs": [
    {
     "name": "stdout",
     "output_type": "stream",
     "text": [
      "[2 1 0 1 2]\n",
      "[2 1 0 1 2]\n",
      "[2 1 0 1 2]\n"
     ]
    }
   ],
   "source": [
    "print(abs(x)) \n",
    "print(np.absolute(x))\n",
    "print(np.abs(x))"
   ]
  },
  {
   "cell_type": "code",
   "execution_count": 167,
   "id": "538d9c9f",
   "metadata": {},
   "outputs": [],
   "source": [
    "x = np.random.random(100)"
   ]
  },
  {
   "cell_type": "code",
   "execution_count": 169,
   "id": "6336defb",
   "metadata": {},
   "outputs": [
    {
     "data": {
      "text/plain": [
       "51.196619177806255"
      ]
     },
     "execution_count": 169,
     "metadata": {},
     "output_type": "execute_result"
    }
   ],
   "source": [
    "np.sum(x)"
   ]
  },
  {
   "cell_type": "code",
   "execution_count": 170,
   "id": "3f36fd0c",
   "metadata": {},
   "outputs": [
    {
     "data": {
      "text/plain": [
       "0.01649741437592256"
      ]
     },
     "execution_count": 170,
     "metadata": {},
     "output_type": "execute_result"
    }
   ],
   "source": [
    "np.min(x)"
   ]
  },
  {
   "cell_type": "code",
   "execution_count": 171,
   "id": "ed6beb19",
   "metadata": {},
   "outputs": [
    {
     "data": {
      "text/plain": [
       "0.9872746269018668"
      ]
     },
     "execution_count": 171,
     "metadata": {},
     "output_type": "execute_result"
    }
   ],
   "source": [
    "np.max(x)"
   ]
  },
  {
   "cell_type": "code",
   "execution_count": 172,
   "id": "95478641",
   "metadata": {},
   "outputs": [
    {
     "data": {
      "text/plain": [
       "0.5119661917780626"
      ]
     },
     "execution_count": 172,
     "metadata": {},
     "output_type": "execute_result"
    }
   ],
   "source": [
    "np.mean(x)"
   ]
  },
  {
   "cell_type": "code",
   "execution_count": 174,
   "id": "5e6f035c",
   "metadata": {},
   "outputs": [
    {
     "data": {
      "text/plain": [
       "0.5150671090942409"
      ]
     },
     "execution_count": 174,
     "metadata": {},
     "output_type": "execute_result"
    }
   ],
   "source": [
    "np.median(x)"
   ]
  },
  {
   "cell_type": "code",
   "execution_count": 175,
   "id": "21ba319c",
   "metadata": {},
   "outputs": [],
   "source": [
    "x = np.random.random ((5,2))"
   ]
  },
  {
   "cell_type": "code",
   "execution_count": 182,
   "id": "43b2c989",
   "metadata": {},
   "outputs": [
    {
     "data": {
      "text/plain": [
       "array([[0.09373028, 0.22135517],\n",
       "       [0.79336862, 0.79368666],\n",
       "       [0.71836454, 0.42587705],\n",
       "       [0.06404789, 0.45391639],\n",
       "       [0.02173236, 0.23287817]])"
      ]
     },
     "execution_count": 182,
     "metadata": {},
     "output_type": "execute_result"
    }
   ],
   "source": [
    "x"
   ]
  },
  {
   "cell_type": "code",
   "execution_count": 183,
   "id": "7a9b690f",
   "metadata": {},
   "outputs": [
    {
     "data": {
      "text/plain": [
       "array([0.09373028, 0.79336862, 0.42587705, 0.06404789, 0.02173236])"
      ]
     },
     "execution_count": 183,
     "metadata": {},
     "output_type": "execute_result"
    }
   ],
   "source": [
    "x.min(axis = 1) \n"
   ]
  },
  {
   "cell_type": "code",
   "execution_count": 184,
   "id": "24561bc9",
   "metadata": {},
   "outputs": [
    {
     "data": {
      "text/plain": [
       "array([0.02173236, 0.22135517])"
      ]
     },
     "execution_count": 184,
     "metadata": {},
     "output_type": "execute_result"
    }
   ],
   "source": [
    "x.min(axis = 0)"
   ]
  },
  {
   "cell_type": "code",
   "execution_count": 185,
   "id": "2592915e",
   "metadata": {},
   "outputs": [
    {
     "data": {
      "text/plain": [
       "32"
      ]
     },
     "execution_count": 185,
     "metadata": {},
     "output_type": "execute_result"
    }
   ],
   "source": [
    "a = np.array([1,2,3])\n",
    "b = np.array([4,5,6]) \n",
    "np.dot(a,b)"
   ]
  },
  {
   "cell_type": "code",
   "execution_count": 187,
   "id": "7fa4b1f2",
   "metadata": {},
   "outputs": [
    {
     "data": {
      "text/plain": [
       "array([14, 32])"
      ]
     },
     "execution_count": 187,
     "metadata": {},
     "output_type": "execute_result"
    }
   ],
   "source": [
    "a = np.array([1,2,3]) \n",
    "matrix = np.array([[1,2,3],\n",
    "                  [4,5,6]]) \n",
    "np.dot(matrix,a)"
   ]
  }
 ],
 "metadata": {
  "kernelspec": {
   "display_name": "Python 3 (ipykernel)",
   "language": "python",
   "name": "python3"
  },
  "language_info": {
   "codemirror_mode": {
    "name": "ipython",
    "version": 3
   },
   "file_extension": ".py",
   "mimetype": "text/x-python",
   "name": "python",
   "nbconvert_exporter": "python",
   "pygments_lexer": "ipython3",
   "version": "3.7.9"
  }
 },
 "nbformat": 4,
 "nbformat_minor": 5
}
