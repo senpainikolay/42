{
 "cells": [
  {
   "cell_type": "code",
   "execution_count": 6,
   "id": "01389bb6",
   "metadata": {},
   "outputs": [],
   "source": [
    "class Student:\n",
    "    def __init__(self, name, surname, grades, comments):\n",
    "        self.__name = name ################################# private var -> accessible within just the Class \n",
    "        self.surname = surname \n",
    "        self.grades = grades\n",
    "        self.comments = comments\n",
    "    def average_grades(self):\n",
    "        avg = 0\n",
    "        for value in self.grades.values():\n",
    "            avg += sum(value)/len(value) \n",
    "        return avg/len(self.grades.keys()) \n",
    "    \n",
    "    def print_name(self):\n",
    "        print(self.__name)"
   ]
  },
  {
   "cell_type": "code",
   "execution_count": 7,
   "id": "d3172e95",
   "metadata": {},
   "outputs": [
    {
     "name": "stdout",
     "output_type": "stream",
     "text": [
      "8.0\n"
     ]
    }
   ],
   "source": [
    "grades = {\"Informatics\" : [7,9,8] , \"Math\" : [7,8,9]} \n",
    "\n",
    "student_1 =  Student ( 'Alex', 'Pierce' , grades, 'Good student' ) \n",
    "print (student_1.average_grades())"
   ]
  },
  {
   "cell_type": "code",
   "execution_count": 8,
   "id": "a232b515",
   "metadata": {},
   "outputs": [
    {
     "ename": "AttributeError",
     "evalue": "'Student' object has no attribute '__name'",
     "output_type": "error",
     "traceback": [
      "\u001b[1;31m---------------------------------------------------------------------------\u001b[0m",
      "\u001b[1;31mAttributeError\u001b[0m                            Traceback (most recent call last)",
      "\u001b[1;32m~\\AppData\\Local\\Temp/ipykernel_2528/4121750565.py\u001b[0m in \u001b[0;36m<module>\u001b[1;34m\u001b[0m\n\u001b[1;32m----> 1\u001b[1;33m \u001b[0mprint\u001b[0m\u001b[1;33m(\u001b[0m\u001b[0mstudent_1\u001b[0m\u001b[1;33m.\u001b[0m\u001b[0m__name\u001b[0m\u001b[1;33m)\u001b[0m \u001b[1;31m# student_1.name  would give the same result\u001b[0m\u001b[1;33m\u001b[0m\u001b[1;33m\u001b[0m\u001b[0m\n\u001b[0m",
      "\u001b[1;31mAttributeError\u001b[0m: 'Student' object has no attribute '__name'"
     ]
    }
   ],
   "source": [
    "print(student_1.__name) ############### student_1.name  would give the same result"
   ]
  },
  {
   "cell_type": "code",
   "execution_count": 9,
   "id": "1a26f6fd",
   "metadata": {},
   "outputs": [
    {
     "name": "stdout",
     "output_type": "stream",
     "text": [
      "Alex\n"
     ]
    }
   ],
   "source": [
    "student_1.print_name()"
   ]
  },
  {
   "cell_type": "code",
   "execution_count": 18,
   "id": "8fa5cd4c",
   "metadata": {},
   "outputs": [],
   "source": [
    "class Human:\n",
    "    def __init__(self,name,surname):\n",
    "        self.name = name \n",
    "        self.surname = surname \n",
    "    \n",
    "    def sleeping(self):\n",
    "        print(\"I'm sleeping\") \n",
    "\n",
    "class Student(Human):\n",
    "    def __init__(self,name,surname,grades,comments):\n",
    "        super().__init__(name,surname)\n",
    "        self.grades = grades\n",
    "        self.comment = comments \n",
    "    def average_grades(self):\n",
    "        avg = 0\n",
    "        for value in self.grades.values():\n",
    "            avg += sum(value)/len(value) \n",
    "        return avg/len(self.grades.keys()) \n",
    "    def sleeping(self): ############################# Method overriding\n",
    "        print(\"Student, wake up!\")\n",
    "    "
   ]
  },
  {
   "cell_type": "code",
   "execution_count": 19,
   "id": "541c305c",
   "metadata": {},
   "outputs": [
    {
     "name": "stdout",
     "output_type": "stream",
     "text": [
      "I'm sleeping\n"
     ]
    }
   ],
   "source": [
    "human1 = Human(\"alex\", \"Kek\")\n",
    "human1.sleeping()"
   ]
  },
  {
   "cell_type": "code",
   "execution_count": 20,
   "id": "eb116ed1",
   "metadata": {},
   "outputs": [
    {
     "name": "stdout",
     "output_type": "stream",
     "text": [
      "Student, wake up!\n"
     ]
    }
   ],
   "source": [
    "grades = {\"Informatics\" : [7,9,8] , \"Math\" : [7,8,9]} \n",
    "\n",
    "student_1 =  Student ( 'Alex', 'Pierce' , grades, 'Good student' ) \n",
    "student_1.sleeping()"
   ]
  },
  {
   "cell_type": "code",
   "execution_count": 22,
   "id": "a9164451",
   "metadata": {},
   "outputs": [],
   "source": [
    "class Teacher:\n",
    "    def __init__(self,name,surname): \n",
    "        self.name = name \n",
    "        self.surname = surname \n",
    "    def sleeping(self):\n",
    "        print(f'{self.name} is sleeping') ###########################################3 Method overloading"
   ]
  },
  {
   "cell_type": "code",
   "execution_count": 24,
   "id": "e5d08e5c",
   "metadata": {},
   "outputs": [
    {
     "name": "stdout",
     "output_type": "stream",
     "text": [
      "Tamara is sleeping\n"
     ]
    }
   ],
   "source": [
    "teacher = Teacher('Tamara', 'Braga') \n",
    "teacher.sleeping()"
   ]
  }
 ],
 "metadata": {
  "kernelspec": {
   "display_name": "Python 3 (ipykernel)",
   "language": "python",
   "name": "python3"
  },
  "language_info": {
   "codemirror_mode": {
    "name": "ipython",
    "version": 3
   },
   "file_extension": ".py",
   "mimetype": "text/x-python",
   "name": "python",
   "nbconvert_exporter": "python",
   "pygments_lexer": "ipython3",
   "version": "3.7.9"
  }
 },
 "nbformat": 4,
 "nbformat_minor": 5
}
