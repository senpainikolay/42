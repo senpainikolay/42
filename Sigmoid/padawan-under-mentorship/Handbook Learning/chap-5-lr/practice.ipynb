{
 "cells": [
  {
   "cell_type": "code",
   "execution_count": 1,
   "id": "c60a9bae",
   "metadata": {},
   "outputs": [],
   "source": [
    "import numpy as np"
   ]
  },
  {
   "cell_type": "code",
   "execution_count": 2,
   "id": "abe56b98",
   "metadata": {},
   "outputs": [],
   "source": [
    "class LinearRegression(): \n",
    "    #Define a Linear Regression class to store out relevant fucntions in\n",
    "    \n",
    "    def __init__(self):\n",
    "        \"\"\"\"\n",
    "            Initializes the Linear Regression model.\n",
    "            Also stores the self.params__ variable, which\n",
    "            will be the weights that the model returns. \n",
    "        \"\"\" \n",
    "        self.params__ = None  \n",
    "        \n",
    "    def gradientDescent(self, X, y, learning_rate = 0.00001,\n",
    "                       iterations = 500, batch_size = 16):\n",
    "        \"\"\"\"\n",
    "            This function applies the Gradient Descent model\n",
    "            onto the dataset\n",
    "        :param X: numpy.ndarray\n",
    "            The X matrix containing the independet variable columns.\n",
    "        :param y: numpy.ndarray\n",
    "            The target vector y\n",
    "        \"\"\" \n",
    "        #Adds a columns of ones for the constant term\n",
    "        X = np.concatenate([X,np.ones_like(y)], axis = 1)\n",
    "        rows, cols = X.shape \n",
    "        \n",
    "        #Combine the X and y columns to more easily shuffle it later\n",
    "        X = np.append(X,y, axis = 1)\n",
    "        \n",
    "        #Make the initial random guess for w \n",
    "        w = np.random.random((cols,1)) \n",
    "        \n",
    "        #Go through all the iterations\n",
    "        for i in range( iterantions ):\n",
    "            #Shuffle the rows of the data\n",
    "            np.random.shuffle(X)\n",
    "            #Defines X and y again\n",
    "            y_it = X[:,-1].reshape((rows,1))\n",
    "            X_it = X[:,:-1] \n",
    "            \n",
    "            for batch in range(math.ceil(rows / batch_size)):\n",
    "                batch_start = batch * batch_size\n",
    "                #Cut a batch from the dataset\n",
    "                x_batch = X_it[ batch_start : min(batch_start +\n",
    "                                                batch_size, X.shape[0])] \n",
    "                y_batch = y_it[ batch_start : min(batch_start +\n",
    "                                                 batch_size, X.shape[0])]\n",
    "                \n",
    "                #Substract the gradient from our previous estimation\n",
    "                \n",
    "                w -= learning_rate * np.matmul(x_batch.transpose(), \n",
    "                                              (np.matmul(x_batch, w) - y_batch))\n",
    "        self.params__ = w \n",
    "        return self  \n",
    "    \n",
    "    def predict(self,X):\n",
    "        X = np.concatenate([X, np.ones(X.shape[0]).reshape((X.shape[0], 1))],\n",
    "                          axis = 1)\n",
    "        return np.matmul(X, self.params__)\n",
    "        \n",
    "        "
   ]
  },
  {
   "cell_type": "code",
   "execution_count": 9,
   "id": "a472d1d3",
   "metadata": {},
   "outputs": [],
   "source": [
    "kek = LinearRegression  \n",
    "X = np.linspace(0,100,100).reshape(100,1)  \n",
    "e = np.random.uniform(-5,5, (100,1))  \n",
    "y = 3*X + e"
   ]
  },
  {
   "cell_type": "code",
   "execution_count": 10,
   "id": "d3a69452",
   "metadata": {},
   "outputs": [
    {
     "ename": "TypeError",
     "evalue": "gradientDescent() missing 1 required positional argument: 'y'",
     "output_type": "error",
     "traceback": [
      "\u001b[1;31m---------------------------------------------------------------------------\u001b[0m",
      "\u001b[1;31mTypeError\u001b[0m                                 Traceback (most recent call last)",
      "\u001b[1;32m~\\AppData\\Local\\Temp/ipykernel_18648/800880383.py\u001b[0m in \u001b[0;36m<module>\u001b[1;34m\u001b[0m\n\u001b[1;32m----> 1\u001b[1;33m \u001b[0mkek\u001b[0m\u001b[1;33m.\u001b[0m\u001b[0mgradientDescent\u001b[0m\u001b[1;33m(\u001b[0m\u001b[0mX\u001b[0m\u001b[1;33m,\u001b[0m\u001b[0my\u001b[0m\u001b[1;33m)\u001b[0m\u001b[1;33m\u001b[0m\u001b[1;33m\u001b[0m\u001b[0m\n\u001b[0m",
      "\u001b[1;31mTypeError\u001b[0m: gradientDescent() missing 1 required positional argument: 'y'"
     ]
    }
   ],
   "source": [
    "kek.gradientDescent(X,y)"
   ]
  },
  {
   "cell_type": "code",
   "execution_count": 6,
   "id": "c632aa56",
   "metadata": {
    "scrolled": true
   },
   "outputs": [],
   "source": [
    "import numpy as np \n",
    "from sklearn.model_selection import train_test_split \n",
    "from  sklearn.linear_model import LinearRegression\n",
    "from sklearn.metrics import mean_squared_error, mean_absolute_error "
   ]
  },
  {
   "cell_type": "code",
   "execution_count": 10,
   "id": "52151a51",
   "metadata": {},
   "outputs": [
    {
     "data": {
      "text/plain": [
       "LinearRegression()"
      ]
     },
     "execution_count": 10,
     "metadata": {},
     "output_type": "execute_result"
    }
   ],
   "source": [
    "#Define some mock-up data\n",
    "#Create a 10x2 matrix with random intergers in the range 0-100\n",
    "X = np.linspace(0,100,100).reshape(100,1) \n",
    "\n",
    "#Define a random noise vector to add onto the vector y\n",
    "e = np.random.uniform(-5,5, (100,1)) \n",
    "\n",
    "#Define the vector y = 3*x + e. \n",
    "y = 3*X + e  \n",
    "\n",
    "#Split the data into train and test \n",
    "X_train, X_test, y_train, y_test = train_test_split(X,y,\n",
    "                                                    test_size = 0.5,\n",
    "                                                    random_state = 42)\n",
    "\n",
    "#Create an instance of the LinearRegression class from sklearn \n",
    "lr = LinearRegression() \n",
    "\n",
    "#Call the fit function, which applies the Linear Regression\n",
    "#model onto data\n",
    "lr.fit(X_train, y_train) "
   ]
  },
  {
   "cell_type": "code",
   "execution_count": 11,
   "id": "67e07106",
   "metadata": {},
   "outputs": [
    {
     "data": {
      "text/plain": [
       "(9.902740726744394, 2.7414145658946465)"
      ]
     },
     "execution_count": 11,
     "metadata": {},
     "output_type": "execute_result"
    }
   ],
   "source": [
    "#Define a var that stores the predictions of our model.\n",
    "y_pred = lr.predict(X_test)\n",
    "\n",
    "#Print the mean squared error and mean absolute error to get an idea of\n",
    "#how well the model has done. \n",
    "mean_squared_error(y_pred, y_test), mean_absolute_error(y_pred, y_test) \n"
   ]
  }
 ],
 "metadata": {
  "kernelspec": {
   "display_name": "Python 3 (ipykernel)",
   "language": "python",
   "name": "python3"
  },
  "language_info": {
   "codemirror_mode": {
    "name": "ipython",
    "version": 3
   },
   "file_extension": ".py",
   "mimetype": "text/x-python",
   "name": "python",
   "nbconvert_exporter": "python",
   "pygments_lexer": "ipython3",
   "version": "3.7.9"
  }
 },
 "nbformat": 4,
 "nbformat_minor": 5
}
